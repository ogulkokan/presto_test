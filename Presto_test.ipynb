{
 "cells": [
  {
   "cell_type": "markdown",
   "metadata": {},
   "source": [
    "# Test Presto"
   ]
  },
  {
   "cell_type": "code",
   "execution_count": 1,
   "metadata": {},
   "outputs": [],
   "source": [
    "import prestodb.dbapi as presto\n",
    "import prestodb"
   ]
  },
  {
   "cell_type": "code",
   "execution_count": 2,
   "metadata": {},
   "outputs": [],
   "source": [
    "conn=prestodb.dbapi.connect(\n",
    "    host='localhost',\n",
    "    port=8080,\n",
    "    user='the-user',\n",
    "    catalog='the-catalog',\n",
    "    schema='the-schema',\n",
    ")"
   ]
  },
  {
   "cell_type": "code",
   "execution_count": 3,
   "metadata": {},
   "outputs": [
    {
     "data": {
      "text/plain": [
       "[['ffffffff-ffff-ffff-ffff-ffffffffffff',\n",
       "  'http://192.168.0.101:8080',\n",
       "  '0.243.2-128118e',\n",
       "  True,\n",
       "  'active']]"
      ]
     },
     "execution_count": 3,
     "metadata": {},
     "output_type": "execute_result"
    }
   ],
   "source": [
    "presto_cursor = conn.cursor()\n",
    "presto_cursor.execute('SELECT * FROM system.runtime.nodes')\n",
    "\n",
    "rows = presto_cursor.fetchall()\n",
    "rows"
   ]
  },
  {
   "cell_type": "markdown",
   "metadata": {},
   "source": [
    "To generate dummy data https://www.generatedata.com/ used.  \n",
    "List avaliable catalogs on Presto catalog we initialized:"
   ]
  },
  {
   "cell_type": "code",
   "execution_count": 4,
   "metadata": {},
   "outputs": [
    {
     "data": {
      "text/plain": [
       "[['jmx'], ['mysql'], ['postgresql'], ['system']]"
      ]
     },
     "execution_count": 4,
     "metadata": {},
     "output_type": "execute_result"
    }
   ],
   "source": [
    "presto_cursor.execute('SHOW catalogs')\n",
    "presto_cursor.fetchall()"
   ]
  },
  {
   "cell_type": "markdown",
   "metadata": {},
   "source": [
    "I added  postgresql and mysql catalog. Others are default.\n",
    "For the avaliable schemas from postgreesql:"
   ]
  },
  {
   "cell_type": "code",
   "execution_count": 5,
   "metadata": {},
   "outputs": [
    {
     "data": {
      "text/plain": [
       "[['information_schema'], ['pg_catalog'], ['public']]"
      ]
     },
     "execution_count": 5,
     "metadata": {},
     "output_type": "execute_result"
    }
   ],
   "source": [
    "presto_cursor.execute('SHOW SCHEMAS FROM postgresql')\n",
    "presto_cursor.fetchall()"
   ]
  },
  {
   "cell_type": "markdown",
   "metadata": {},
   "source": [
    "avaliable schemas from mysql:"
   ]
  },
  {
   "cell_type": "code",
   "execution_count": 8,
   "metadata": {},
   "outputs": [
    {
     "data": {
      "text/plain": [
       "[['information_schema'], ['performance_schema'], ['sys'], ['test']]"
      ]
     },
     "execution_count": 8,
     "metadata": {},
     "output_type": "execute_result"
    }
   ],
   "source": [
    "presto_cursor.execute('SHOW SCHEMAS FROM mysql')\n",
    "presto_cursor.fetchall()"
   ]
  },
  {
   "cell_type": "markdown",
   "metadata": {},
   "source": [
    "Lets check avaliable tables on mysql catalog"
   ]
  },
  {
   "cell_type": "code",
   "execution_count": 10,
   "metadata": {},
   "outputs": [
    {
     "data": {
      "text/plain": [
       "[['dummytablemysql']]"
      ]
     },
     "execution_count": 10,
     "metadata": {},
     "output_type": "execute_result"
    }
   ],
   "source": [
    "presto_cursor.execute('SHOW TABLES FROM mysql.test')\n",
    "presto_cursor.fetchall()"
   ]
  },
  {
   "cell_type": "code",
   "execution_count": 14,
   "metadata": {},
   "outputs": [
    {
     "data": {
      "text/plain": [
       "[['Hiram Burke', 'Solre-sur-Sambre', 'Malawi'],\n",
       " ['Brock Massey', 'Armento', 'Guatemala'],\n",
       " ['Jesse George', 'Ollolai', 'Philippines'],\n",
       " ['Kermit Bartlett', 'Recco', 'Dominican Republic'],\n",
       " ['Nehru Zamora', \"Spaniard's Bay\", 'Philippines'],\n",
       " ['John Carrillo', 'LimerlŽ', 'Svalbard and Jan Mayen Islands'],\n",
       " ['Vaughan Whitfield', 'Magadan', 'Guam'],\n",
       " ['Garth Patrick', 'Mocoa', 'Guernsey'],\n",
       " ['Francis Kirkland', 'Sankt Johann im Pongau', 'Netherlands'],\n",
       " ['Timon Craft', 'Devizes', 'Laos'],\n",
       " ['Abdul Hicks', 'Weißenfels', 'Belarus'],\n",
       " ['Jamal Marks', 'Bruck an der Mur', 'Zambia'],\n",
       " ['Wade Craig', 'Talence', 'Bouvet Island'],\n",
       " ['Brendan Horn', 'Huaral', 'Togo'],\n",
       " ['Daquan Cohen', 'Gubkin', 'American Samoa'],\n",
       " ['Colin Fitzgerald', 'Pescopagano', 'Faroe Islands'],\n",
       " ['Melvin Perry', 'Dibrugarh', 'Israel'],\n",
       " ['Armando Ford', 'Wolfurt', 'India'],\n",
       " ['Knox Lynch', 'Clydebank', 'Antigua and Barbuda'],\n",
       " ['Reuben Sexton', 'Crawley', 'Sierra Leone'],\n",
       " ['Cyrus Graham', 'Jayapura', 'Saint Lucia'],\n",
       " ['Quentin Riggs', 'Basirhat', 'Qatar'],\n",
       " ['Carter Cote', 'Beausejour', 'Nauru'],\n",
       " ['Stone Mccall', 'Southend', 'Bahrain'],\n",
       " ['Macon Mcintosh', 'Wageningen', 'Maldives'],\n",
       " ['Oleg Kemp', 'Grimma', 'Oman'],\n",
       " ['Chadwick Haynes', 'Warszawa', 'Cayman Islands'],\n",
       " ['Armand Morrow', 'Columbus', 'Japan'],\n",
       " ['Charles Diaz', 'Birmingham', 'Thailand'],\n",
       " ['Chase Webb', 'Inuvik', 'Cyprus'],\n",
       " ['Ahmed Nichols', 'San Pietro Mussolino', 'Algeria'],\n",
       " ['Baxter Hinton', 'Cargovil', 'Solomon Islands'],\n",
       " ['Shad Garza', 'Quilpué', 'Netherlands'],\n",
       " ['Beau Harrell', 'Mobile', 'Saint Barthélemy'],\n",
       " ['Boris Bryan', 'St. Andrews', 'Vanuatu'],\n",
       " ['Benedict Cain', 'Houdemont', 'Israel'],\n",
       " ['Gabriel Roach', 'Westerlo', 'Hungary'],\n",
       " ['Garrett Henderson', 'Jaranwala', 'Pitcairn Islands'],\n",
       " ['Shad Payne', 'Tribogna', 'Turkey'],\n",
       " ['Howard Peck', 'Klemskerke', 'Barbados'],\n",
       " ['Murphy Best', 'San Calogero', 'Honduras'],\n",
       " ['Raphael Winters', 'Göksun', 'South Sudan'],\n",
       " ['Samson Powell', 'Bielefeld', 'Antigua and Barbuda'],\n",
       " ['Uriah Christensen', 'Zapallar', 'Faroe Islands'],\n",
       " ['Thane Calderon', 'Hapur', 'Uganda'],\n",
       " ['Wallace Shepherd', 'Erchie', 'Bahamas'],\n",
       " ['Ian Little', 'Istanbul', 'Pakistan'],\n",
       " ['Ezra Gregory', 'Yuryuzan', 'Palestine, State of'],\n",
       " ['Barrett Manning', 'Gambolò', 'Kenya'],\n",
       " ['Darius Salas', 'Lidköping', 'Mayotte'],\n",
       " ['Jin Sloan', 'Paisley', 'Uzbekistan'],\n",
       " ['Reece Mccray', 'Taupo', 'South Africa'],\n",
       " ['Oleg Whitehead', 'Ciplet', 'Korea, North'],\n",
       " ['Berk Kinney', 'Aurillac', 'Liberia'],\n",
       " ['Neil Barnes', 'Zandvoorde', 'Paraguay'],\n",
       " ['Ralph Stuart', 'Rochester', 'Colombia'],\n",
       " ['Conan Gilmore', 'Sint-Martens-Lennik', 'Solomon Islands'],\n",
       " ['Gray Riley', 'Terragnolo', 'Costa Rica'],\n",
       " ['Tanner Ryan', 'Diano Arentino', 'Singapore'],\n",
       " ['Driscoll Bright', 'Maple Ridge', 'Bouvet Island'],\n",
       " ['Malachi Nieves', 'Gonda', 'Benin'],\n",
       " ['Jordan Head', 'Muiden', 'Zimbabwe'],\n",
       " ['Phelan Cooke', 'Satara', 'Fiji'],\n",
       " ['Sawyer Richards', 'Neyveli', 'Saint Pierre and Miquelon'],\n",
       " ['Samuel Christensen', 'Baltimore', 'Central African Republic'],\n",
       " ['Harlan Rowe', 'Anápolis', 'Antarctica'],\n",
       " ['Harding Jensen', 'Calarcá', \"Côte D'Ivoire (Ivory Coast)\"],\n",
       " ['Lane Tanner', 'Pastena', 'El Salvador'],\n",
       " ['Zane Herrera', 'Cerignola', 'Timor-Leste'],\n",
       " ['Kato Wilcox', 'Alma', 'Papua New Guinea'],\n",
       " ['Ashton Roberson', 'Kasli', 'Puerto Rico'],\n",
       " ['Travis Copeland', 'Berwick-upon-Tweed', 'Cambodia'],\n",
       " ['Eaton Hammond', 'Kakisa', 'Syria'],\n",
       " ['Raja Holland', 'Nodebais', 'Belgium'],\n",
       " ['Baker Nunez', \"Casole d'Elsa\", 'Heard Island and Mcdonald Islands'],\n",
       " ['Roth Brennan', \"Sant'Angelo in Pontano\", 'El Salvador'],\n",
       " ['Ezekiel Acosta', 'San Calogero', 'Mauritius'],\n",
       " ['Orlando Case', 'Inuvik', 'Korea, North'],\n",
       " ['Dexter Robles', 'Delft', 'Burundi'],\n",
       " ['Kamal Pennington', 'Yopal', 'Falkland Islands'],\n",
       " ['Kasimir Christian', 'Miraflores', 'Ethiopia'],\n",
       " ['Gil Koch', 'Baisy-Thy', 'Mayotte'],\n",
       " ['Blaze Decker', 'Aiseau-Presles', 'Taiwan'],\n",
       " ['Ian Mathews', 'Skegness', 'India'],\n",
       " ['Drake Farrell', 'Malartic', 'Christmas Island'],\n",
       " ['Carter Campbell', 'LaSalle', 'Norfolk Island'],\n",
       " ['Tanner Sampson', 'Timkur', 'Åland Islands'],\n",
       " ['Justin Mccall', 'Bornival', 'Tajikistan'],\n",
       " ['Herman Grant', 'Thirimont', 'Lesotho'],\n",
       " ['Tyrone Acevedo', 'Suwałki', 'Luxembourg'],\n",
       " ['Nero Mason', 'Wandre', 'Slovakia'],\n",
       " ['Myles Daugherty', 'Honolulu', 'Philippines'],\n",
       " ['Tanner Hudson', 'Villers-la-Tour', 'Gambia'],\n",
       " ['Allistair Walker', 'Sanluri', 'United States Minor Outlying Islands'],\n",
       " ['Ezra Perez', 'Guna', 'Suriname'],\n",
       " ['Ahmed Schultz', 'Berg', 'Malaysia'],\n",
       " ['Caldwell Wallace', 'Fauvillers', 'Holy See (Vatican City State)'],\n",
       " ['Igor Lara', 'Fontaine-Valmont', 'Singapore'],\n",
       " ['Cade Heath', 'Belcarra', 'United Arab Emirates'],\n",
       " ['Alden Ferrell', 'Offida', 'Equatorial Guinea']]"
      ]
     },
     "execution_count": 14,
     "metadata": {},
     "output_type": "execute_result"
    }
   ],
   "source": [
    "presto_cursor.execute('SELECT * FROM mysql.test.dummytablemysql')\n",
    "presto_cursor.fetchall()"
   ]
  },
  {
   "cell_type": "markdown",
   "metadata": {},
   "source": [
    "Lets check avaliable tables on postgresql catalog"
   ]
  },
  {
   "cell_type": "code",
   "execution_count": 15,
   "metadata": {},
   "outputs": [
    {
     "data": {
      "text/plain": [
       "[['dummytable'], ['users']]"
      ]
     },
     "execution_count": 15,
     "metadata": {},
     "output_type": "execute_result"
    }
   ],
   "source": [
    "presto_cursor.execute('SHOW TABLES FROM postgresql.public')\n",
    "presto_cursor.fetchall()"
   ]
  },
  {
   "cell_type": "markdown",
   "metadata": {},
   "source": [
    "* If you create Table name with upper and lower case together it will show the tables name lower case but when\n",
    "    you try to query it wont work. There are a few scenerios for upper and lower cases: \n",
    "    https://github.com/prestodb/presto/issues/3470"
   ]
  },
  {
   "cell_type": "code",
   "execution_count": 16,
   "metadata": {},
   "outputs": [
    {
     "data": {
      "text/plain": [
       "[['Christopher', 'eu@acmi.edu', 'Vestibulum Ante Ipsum Limited', 'Mauritania'],\n",
       " ['Kyle', 'vulputate@faucibus.net', 'Massa Ltd', 'Moldova'],\n",
       " ['Vincent',\n",
       "  'nec@turpisnon.ca',\n",
       "  'Sed Tortor Corp.',\n",
       "  'Virgin Islands, British'],\n",
       " ['Elton', 'et@quislectus.com', 'Semper Nam Associates', 'Sudan'],\n",
       " ['Levi',\n",
       "  'Sed.molestie@vellectusCum.com',\n",
       "  'Lorem Lorem Luctus PC',\n",
       "  'Bonaire, Sint Eustatius and Saba'],\n",
       " ['Hashim', 'Vivamus.non.lorem@commodo.org', 'Consequat Ltd', 'Moldova'],\n",
       " ['Axel',\n",
       "  'aliquet@consectetuer.com',\n",
       "  'Non Quam Pellentesque Company',\n",
       "  'Suriname'],\n",
       " ['Murphy', 'erat@elitpretium.net', 'Aliquam Enim Consulting', 'Serbia'],\n",
       " ['Colby', 'iaculis@ligulaNullam.co.uk', 'Praesent LLP', 'Gambia'],\n",
       " ['Yasir',\n",
       "  'Donec.fringilla@porttitor.com',\n",
       "  'Nunc Pulvinar Arcu Institute',\n",
       "  'Tokelau'],\n",
       " ['Chancellor',\n",
       "  'neque.tellus.imperdiet@egestasFusce.edu',\n",
       "  'Ornare Elit Company',\n",
       "  'Kenya'],\n",
       " ['Baxter',\n",
       "  'pellentesque@necimperdietnec.org',\n",
       "  'Enim Mi Incorporated',\n",
       "  'United Kingdom (Great Britain)'],\n",
       " ['Hunter',\n",
       "  'magnis.dis@quam.net',\n",
       "  'Ornare Lectus Institute',\n",
       "  'Congo (Brazzaville)'],\n",
       " ['Valentine', 'orci.luctus.et@arcuSed.edu', 'Lorem Ipsum Ltd', 'Serbia'],\n",
       " ['Hiram', 'Sed.eu.eros@iaculisaliquetdiam.org', 'Nam Ac Nulla PC', 'Norway'],\n",
       " ['Tucker', 'sed.facilisis@ullamcorperDuis.org', 'Amet Orci Ltd', 'Bahrain'],\n",
       " ['Kamal', 'magna.nec.quam@diamnunc.edu', 'Elit Pretium Company', 'Malta'],\n",
       " ['Len', 'nunc.sit.amet@sociisnatoque.com', 'Lacus Industries', 'Brunei'],\n",
       " ['Omar', 'Cras@odiosagittissemper.edu', 'Erat Associates', 'Syria'],\n",
       " ['Josiah',\n",
       "  'a.aliquet@Quisque.com',\n",
       "  'Consectetuer Rhoncus Nullam LLC',\n",
       "  'Cape Verde'],\n",
       " ['Jerry',\n",
       "  'eu.enim.Etiam@convallis.net',\n",
       "  'Nibh Vulputate Mauris Inc.',\n",
       "  'Canada'],\n",
       " ['Brandon', 'Nam.ac@venenatis.co.uk', 'Nonummy Ultricies LLP', 'Micronesia'],\n",
       " ['Zachery',\n",
       "  'sed.libero.Proin@loremvehiculaet.edu',\n",
       "  'Sed Nulla Foundation',\n",
       "  'Comoros'],\n",
       " ['Warren', 'Nullam@eunulla.com', 'Donec Fringilla Donec Limited', 'Niue'],\n",
       " ['Louis',\n",
       "  'amet@diamluctuslobortis.net',\n",
       "  'Eget Varius Consulting',\n",
       "  'Azerbaijan'],\n",
       " ['Ralph',\n",
       "  'ipsum@rhoncusNullamvelit.org',\n",
       "  'Cras Vehicula Aliquet Foundation',\n",
       "  'Mauritius'],\n",
       " ['Thor',\n",
       "  'fringilla.Donec.feugiat@primisin.com',\n",
       "  'Metus Facilisis Lorem Corp.',\n",
       "  'South Sudan'],\n",
       " ['Brent', 'diam.nunc@laciniaat.ca', 'Et Lacinia LLC', 'Uruguay'],\n",
       " ['Jonah', 'neque@laciniavitae.net', 'Volutpat Ltd', 'Israel'],\n",
       " ['Cade', 'cursus.non@sagittissemperNam.org', 'Lobortis Inc.', 'Tajikistan'],\n",
       " ['Hasad', 'a.dui@risus.co.uk', 'Sit Foundation', 'San Marino'],\n",
       " ['Abraham',\n",
       "  'elit.pellentesque.a@dictumPhasellus.net',\n",
       "  'Volutpat Corporation',\n",
       "  'French Polynesia'],\n",
       " ['Amir',\n",
       "  'ligula.Aenean@ipsumSuspendisse.net',\n",
       "  'Enim Non Nisi Ltd',\n",
       "  'Guinea-Bissau'],\n",
       " ['Ivor', 'euismod@loremsitamet.co.uk', 'Magna Sed Consulting', 'Philippines'],\n",
       " ['Burke', 'Quisque.ac.libero@orciluctus.com', 'Tortor LLP', 'Iran'],\n",
       " ['Michael', 'nec@necmollisvitae.edu', 'Adipiscing Company', 'Philippines'],\n",
       " ['Geoffrey', 'Quisque.ornare@facilisisvitaeorci.com', 'Elit LLC', 'Tokelau'],\n",
       " ['Gary', 'dictum@necligula.co.uk', 'Odio Auctor Industries', 'Venezuela'],\n",
       " ['Elmo', 'et@leo.edu', 'Urna Ut Institute', 'Senegal'],\n",
       " ['Neville', 'rutrum.non.hendrerit@etmagnis.ca', 'Donec LLP', 'Cape Verde'],\n",
       " ['Mohammad',\n",
       "  'purus.Duis@habitantmorbi.ca',\n",
       "  'Erat Volutpat Nulla Corp.',\n",
       "  'Burkina Faso'],\n",
       " ['Kasper',\n",
       "  'luctus.et.ultrices@facilisisfacilisis.edu',\n",
       "  'Nisl Elementum Inc.',\n",
       "  'El Salvador'],\n",
       " ['Noah', 'egestas.nunc.sed@ut.com', 'Rhoncus LLP', 'Kenya'],\n",
       " ['Ryder',\n",
       "  'et.eros@risusDonecegestas.ca',\n",
       "  'Ornare Sagittis Foundation',\n",
       "  'Ukraine'],\n",
       " ['Nigel',\n",
       "  'fringilla@ametorciUt.org',\n",
       "  'Eu Elit Company',\n",
       "  'Congo, the Democratic Republic of the'],\n",
       " ['Upton', 'nec@placeratorcilacus.co.uk', 'Sed Dictum Associates', 'Jersey'],\n",
       " ['Curran',\n",
       "  'molestie.dapibus@urnaetarcu.org',\n",
       "  'Aliquet Nec Company',\n",
       "  'Saint Lucia'],\n",
       " ['Felix',\n",
       "  'at@Donec.com',\n",
       "  'Lorem Donec Institute',\n",
       "  'South Georgia and The South Sandwich Islands'],\n",
       " ['Hilel',\n",
       "  'Cras.dolor@egetvolutpat.com',\n",
       "  'Dolor Elit Pellentesque Consulting',\n",
       "  'Niue'],\n",
       " ['Grant',\n",
       "  'faucibus.orci.luctus@ipsumnon.net',\n",
       "  'Ac Corp.',\n",
       "  'Russian Federation'],\n",
       " ['Thomas', 'Mauris.nulla@adipiscingelit.edu', 'Et Magnis Ltd', 'Martinique'],\n",
       " ['Kirk', 'magna@ligulaAeneaneuismod.com', 'Cum Sociis PC', 'Sierra Leone'],\n",
       " ['Melvin', 'vitae.purus.gravida@eu.com', 'Nullam Velit Industries', 'Turkey'],\n",
       " ['Hop', 'Vivamus.sit@venenatis.edu', 'Lectus Pede Ltd', 'Czech Republic'],\n",
       " ['Brennan', 'felis.Nulla.tempor@nibh.com', 'Gravida Institute', 'Montenegro'],\n",
       " ['Jerome', 'vitae@rutrumurna.org', 'Porttitor Limited', 'Croatia'],\n",
       " ['Lionel', 'mi.tempor.lorem@Suspendissedui.com', 'Ipsum LLC', 'Costa Rica'],\n",
       " ['Thor',\n",
       "  'Nulla.tincidunt.neque@convallis.ca',\n",
       "  'Aliquam Erat Volutpat Industries',\n",
       "  'Svalbard and Jan Mayen Islands'],\n",
       " ['Ross', 'dolor@Fuscealiquet.ca', 'Turpis Industries', 'Paraguay'],\n",
       " ['Judah',\n",
       "  'Integer@blanditviverraDonec.ca',\n",
       "  'Mauris Blandit Mattis Associates',\n",
       "  'Andorra'],\n",
       " ['Murphy',\n",
       "  'rutrum.Fusce.dolor@Vivamus.edu',\n",
       "  'Amet Consectetuer LLP',\n",
       "  'Bolivia'],\n",
       " ['Adrian',\n",
       "  'et@enimSed.org',\n",
       "  'Suspendisse Sed Corporation',\n",
       "  'Central African Republic'],\n",
       " ['Emerson',\n",
       "  'tristique.neque.venenatis@nullaInteger.edu',\n",
       "  'In Magna Ltd',\n",
       "  'Djibouti'],\n",
       " ['Ross',\n",
       "  'ultricies.dignissim.lacus@arcuiaculis.com',\n",
       "  'Sem Magna Nec Associates',\n",
       "  'Syria'],\n",
       " ['Brenden',\n",
       "  'arcu.Sed.eu@eget.ca',\n",
       "  'Lorem Fringilla Inc.',\n",
       "  'Bonaire, Sint Eustatius and Saba'],\n",
       " ['Michael', 'ultricies.ornare@Maecenas.net', 'Odio Associates', 'Tanzania'],\n",
       " ['Quamar',\n",
       "  'Praesent.interdum@molestietortor.org',\n",
       "  'Lorem Fringilla Ornare PC',\n",
       "  'United States'],\n",
       " ['Vance', 'urna.Ut@eu.edu', 'Vivamus Nisi Company', 'Venezuela'],\n",
       " ['Aidan',\n",
       "  'lorem@Seddiam.org',\n",
       "  'Phasellus Fermentum Convallis Industries',\n",
       "  'Virgin Islands, British'],\n",
       " ['Andrew',\n",
       "  'magna.Praesent.interdum@feugiatnonlobortis.ca',\n",
       "  'Eget Corp.',\n",
       "  'Bermuda'],\n",
       " ['Cedric', 'Phasellus@nuncrisus.edu', 'Fusce Diam LLC', 'Israel'],\n",
       " ['Garrison',\n",
       "  'odio.a.purus@vehiculaaliquetlibero.co.uk',\n",
       "  'Auctor PC',\n",
       "  'United Arab Emirates'],\n",
       " ['Xavier', 'nunc@ligula.ca', 'Interdum Company', 'Ghana'],\n",
       " ['Uriel', 'eu.nulla.at@metus.co.uk', 'Congue Turpis Consulting', 'Australia'],\n",
       " ['Odysseus', 'risus.quis@Vestibulumuteros.org', 'Eu Company', 'Burkina Faso'],\n",
       " ['Garrison',\n",
       "  'Sed.eget.lacus@Suspendisse.com',\n",
       "  'Integer Aliquam Limited',\n",
       "  'Samoa'],\n",
       " ['Ishmael', 'lorem@nonante.net', 'Maecenas Iaculis Inc.', 'Austria'],\n",
       " ['Merritt',\n",
       "  'Integer.eu@elitAliquamauctor.edu',\n",
       "  'Maecenas Libero Est Limited',\n",
       "  'Åland Islands'],\n",
       " ['Derek', 'accumsan@dignissimtempor.org', 'Adipiscing Elit Inc.', 'Bermuda'],\n",
       " ['Xavier', 'nisi.Cum@id.net', 'Turpis Aliquam Company', 'Malawi'],\n",
       " ['Jared', 'Fusce.mi@doloregestasrhoncus.edu', 'Molestie LLC', 'Belgium'],\n",
       " ['Nehru',\n",
       "  'sem@Vivamusnibhdolor.co.uk',\n",
       "  'Ac Tellus Suspendisse Corporation',\n",
       "  'Guinea-Bissau'],\n",
       " ['Jelani',\n",
       "  'eget.laoreet@Fusce.co.uk',\n",
       "  'Quis Diam Pellentesque Incorporated',\n",
       "  'Algeria'],\n",
       " ['Plato',\n",
       "  'lobortis.ultrices@dictumultriciesligula.org',\n",
       "  'Sed Corp.',\n",
       "  'Mauritius'],\n",
       " ['Kadeem', 'nibh@diamnunc.co.uk', 'Mollis Integer PC', 'French Guiana'],\n",
       " ['Mannix',\n",
       "  'Aenean@FuscefeugiatLorem.com',\n",
       "  'Amet Risus Consulting',\n",
       "  'Bouvet Island'],\n",
       " ['Malik',\n",
       "  'egestas.rhoncus@mauris.edu',\n",
       "  'Nunc Corporation',\n",
       "  'Equatorial Guinea'],\n",
       " ['Salvador', 'neque.Sed.eget@nunc.com', 'Nulla Semper Tellus Inc.', 'Sudan'],\n",
       " ['Lucian',\n",
       "  'vehicula.et.rutrum@ullamcorperviverra.org',\n",
       "  'Metus Consulting',\n",
       "  'Croatia'],\n",
       " ['David',\n",
       "  'dictum@arcu.edu',\n",
       "  'Orci Tincidunt Adipiscing Institute',\n",
       "  'Indonesia'],\n",
       " ['Vincent',\n",
       "  'Maecenas.libero.est@elita.ca',\n",
       "  'Non Quam Pellentesque Company',\n",
       "  'Venezuela'],\n",
       " ['Keegan',\n",
       "  'Cras.pellentesque@magnisdisparturient.com',\n",
       "  'Id Mollis LLP',\n",
       "  'South Sudan'],\n",
       " ['Quamar', 'consectetuer@tellusjusto.org', 'Quis LLC', 'Indonesia'],\n",
       " ['Guy',\n",
       "  'lectus.quis.massa@sagittisaugue.ca',\n",
       "  'Vel Turpis Aliquam Associates',\n",
       "  'Chile'],\n",
       " ['Hamish',\n",
       "  'amet.ornare.lectus@posuerecubiliaCurae.co.uk',\n",
       "  'Eu Metus Company',\n",
       "  'Laos'],\n",
       " ['Kenneth',\n",
       "  'tellus.imperdiet@ultrices.ca',\n",
       "  'Ullamcorper Nisl Arcu LLC',\n",
       "  'Jordan'],\n",
       " ['Judah',\n",
       "  'neque.Nullam.ut@ametconsectetueradipiscing.ca',\n",
       "  'Sit Amet Associates',\n",
       "  'Liberia'],\n",
       " ['Walker',\n",
       "  'risus.at@volutpatNulla.org',\n",
       "  'Condimentum Donec At Corp.',\n",
       "  'Guyana'],\n",
       " ['Amal',\n",
       "  'Aliquam.gravida.mauris@semper.org',\n",
       "  'Ligula Consectetuer Corporation',\n",
       "  'Christmas Island'],\n",
       " ['Kermit',\n",
       "  'et.tristique.pellentesque@sitamet.net',\n",
       "  'Vestibulum Mauris Magna Corp.',\n",
       "  'Nauru']]"
      ]
     },
     "execution_count": 16,
     "metadata": {},
     "output_type": "execute_result"
    }
   ],
   "source": [
    "presto_cursor.execute('SELECT * FROM postgresql.public.dummytable')\n",
    "presto_cursor.fetchall()"
   ]
  },
  {
   "cell_type": "code",
   "execution_count": null,
   "metadata": {},
   "outputs": [],
   "source": []
  },
  {
   "cell_type": "code",
   "execution_count": null,
   "metadata": {},
   "outputs": [],
   "source": []
  },
  {
   "cell_type": "code",
   "execution_count": null,
   "metadata": {},
   "outputs": [],
   "source": []
  },
  {
   "cell_type": "code",
   "execution_count": null,
   "metadata": {},
   "outputs": [],
   "source": []
  },
  {
   "cell_type": "code",
   "execution_count": null,
   "metadata": {},
   "outputs": [],
   "source": []
  },
  {
   "cell_type": "code",
   "execution_count": null,
   "metadata": {},
   "outputs": [],
   "source": []
  },
  {
   "cell_type": "code",
   "execution_count": null,
   "metadata": {},
   "outputs": [],
   "source": []
  },
  {
   "cell_type": "code",
   "execution_count": null,
   "metadata": {},
   "outputs": [],
   "source": []
  },
  {
   "cell_type": "code",
   "execution_count": null,
   "metadata": {},
   "outputs": [],
   "source": []
  },
  {
   "cell_type": "code",
   "execution_count": null,
   "metadata": {},
   "outputs": [],
   "source": []
  },
  {
   "cell_type": "code",
   "execution_count": null,
   "metadata": {},
   "outputs": [],
   "source": []
  },
  {
   "cell_type": "code",
   "execution_count": null,
   "metadata": {},
   "outputs": [],
   "source": []
  },
  {
   "cell_type": "code",
   "execution_count": 35,
   "metadata": {},
   "outputs": [],
   "source": [
    "#cur.execute('SELECT * FROM test.writes_set')\n",
    "#print(presto_cur.fetchall())"
   ]
  },
  {
   "cell_type": "code",
   "execution_count": 10,
   "metadata": {},
   "outputs": [
    {
     "data": {
      "text/plain": [
       "<prestodb.client.PrestoResult at 0x7f922ac85e10>"
      ]
     },
     "execution_count": 10,
     "metadata": {},
     "output_type": "execute_result"
    }
   ],
   "source": [
    "presto_cursor.execute('SELECT * FROM your_table LIMIT 10')\n",
    "#print(presto_cursor.fetchall())"
   ]
  },
  {
   "cell_type": "code",
   "execution_count": 27,
   "metadata": {},
   "outputs": [],
   "source": [
    "#print(presto_cursor.fetchone())"
   ]
  }
 ],
 "metadata": {
  "kernelspec": {
   "display_name": "presto",
   "language": "python",
   "name": "presto"
  },
  "language_info": {
   "codemirror_mode": {
    "name": "ipython",
    "version": 3
   },
   "file_extension": ".py",
   "mimetype": "text/x-python",
   "name": "python",
   "nbconvert_exporter": "python",
   "pygments_lexer": "ipython3",
   "version": "3.7.9"
  }
 },
 "nbformat": 4,
 "nbformat_minor": 4
}
